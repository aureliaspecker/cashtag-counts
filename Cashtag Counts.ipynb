{
 "cells": [
  {
   "cell_type": "markdown",
   "id": "clear-product",
   "metadata": {},
   "source": [
    "## Cashtag Counts\n",
    "\n",
    "The following script reveals cashtag mentions on Twitter over time.\n",
    "\n",
    "#### Outcome \n",
    "* Results folder that contains a .csv file for each cashtag\n",
    "* Charts folder that contains a graph for each cashtag"
   ]
  },
  {
   "cell_type": "code",
   "execution_count": 1,
   "id": "illegal-fantasy",
   "metadata": {},
   "outputs": [],
   "source": [
    "import os\n",
    "import sys\n",
    "import yaml\n",
    "import json\n",
    "import requests\n",
    "from requests_oauthlib import OAuth1\n",
    "import pandas as pd\n",
    "import numpy as np\n",
    "import matplotlib.pyplot as plt\n",
    "import matplotlib.pylab as pylab\n",
    "import matplotlib.dates as mdates\n",
    "import seaborn as sns"
   ]
  },
  {
   "cell_type": "markdown",
   "id": "severe-reservation",
   "metadata": {},
   "source": [
    "In the root directory, create a new file entitled `credentials.yaml` and populate the information (as exemplified in `credentials.yaml.template`). The credentials must be tied to Twitter's Search API (Full Archive) at enterprise access. "
   ]
  },
  {
   "cell_type": "code",
   "execution_count": 2,
   "id": "biblical-content",
   "metadata": {},
   "outputs": [],
   "source": [
    "with open(r'./credentials.yaml') as file:\n",
    "    credentials = yaml.load(file, Loader=yaml.FullLoader)\n",
    "    \n",
    "    username = credentials['enterprise_full_archive_search_credentials']['username']\n",
    "    password = credentials['enterprise_full_archive_search_credentials']['password']\n",
    "    account_name = credentials['enterprise_full_archive_search_credentials']['account_name']\n",
    "    env_label = credentials['enterprise_full_archive_search_credentials']['env_label']"
   ]
  },
  {
   "cell_type": "code",
   "execution_count": 3,
   "id": "aggressive-institute",
   "metadata": {},
   "outputs": [],
   "source": [
    "endpoint = f'https://gnip-api.twitter.com/search/fullarchive/accounts/{account_name}/{env_label}/counts.json'"
   ]
  },
  {
   "cell_type": "markdown",
   "id": "variable-cricket",
   "metadata": {},
   "source": [
    "The following cell is where you can specify the data you want to get back: \n",
    "* What stock you want to track (e.g. TWTTR) \n",
    "* What time period you'd like to pull data for (format: YYYYMMddHHmm)\n",
    "* What time bucket you want to use (options: 'day', 'hour', 'minute')"
   ]
  },
  {
   "cell_type": "code",
   "execution_count": 4,
   "id": "thick-attendance",
   "metadata": {},
   "outputs": [],
   "source": [
    "stock = 'TWTR'\n",
    "fromDate = '202001010000'\n",
    "toDate = '202102250000'\n",
    "bucket = 'hour'\n",
    "\n",
    "# Only change parameters above this line \n",
    "\n",
    "body = {\n",
    "    'query': f'${stock}', \n",
    "    'fromDate': f'{fromDate}',\n",
    "    'toDate': f'{toDate}',\n",
    "    'bucket': f'{bucket}'\n",
    "}"
   ]
  },
  {
   "cell_type": "code",
   "execution_count": 5,
   "id": "acceptable-error",
   "metadata": {},
   "outputs": [
    {
     "name": "stdout",
     "output_type": "stream",
     "text": [
      "Activity count: 34881\n"
     ]
    }
   ],
   "source": [
    "response = requests.post(url=endpoint, auth=(username, password), json=body)\n",
    "data = response.json()\n",
    "\n",
    "timePeriods = []\n",
    "counts = []\n",
    "totalCount = data['totalCount']\n",
    "print(\"Activity count:\", totalCount)\n",
    "\n",
    "for result in data['results']:\n",
    "    timePeriods.append(result['timePeriod'])\n",
    "    counts.append(result['count'])"
   ]
  },
  {
   "cell_type": "code",
   "execution_count": 6,
   "id": "bridal-kingston",
   "metadata": {},
   "outputs": [
    {
     "name": "stdout",
     "output_type": "stream",
     "text": [
      "Activity count: 47433\n",
      "Activity count: 14075\n",
      "Activity count: 26993\n",
      "Activity count: 24426\n",
      "Activity count: 15987\n",
      "Activity count: 24833\n",
      "Activity count: 26260\n",
      "Activity count: 23750\n",
      "Activity count: 17913\n",
      "Activity count: 10554\n",
      "Activity count: 13462\n",
      "Activity count: 14498\n",
      "Activity count: 6266\n",
      "Job complete: 14 request(s) in total\n",
      "Total activity count: 301331\n"
     ]
    }
   ],
   "source": [
    "request_count = 1\n",
    "while 'next' in data.keys():\n",
    "    next_token = data['next']\n",
    "    body.update(next=next_token)\n",
    "    try: \n",
    "        response = requests.post(url=endpoint, auth=(username, password), json=body)\n",
    "        data = response.json()\n",
    "        print(\"Activity count:\", data['totalCount'])\n",
    "        totalCount += data['totalCount']\n",
    "        for result in data['results']:\n",
    "            timePeriods.append(result['timePeriod'])\n",
    "            counts.append(result['count'])\n",
    "    except requests.exceptions.RequestException as e:\n",
    "        print(e)\n",
    "    request_count += 1\n",
    "    data = response.json()\n",
    "\n",
    "print(f'Job complete: {request_count} request(s) in total')\n",
    "print('Total activity count:', totalCount)"
   ]
  },
  {
   "cell_type": "code",
   "execution_count": 7,
   "id": "composed-crown",
   "metadata": {},
   "outputs": [],
   "source": [
    "df = pd.DataFrame({'Time period':timePeriods, 'Count':counts})"
   ]
  },
  {
   "cell_type": "code",
   "execution_count": 8,
   "id": "ordinary-lodging",
   "metadata": {},
   "outputs": [],
   "source": [
    "df['Time period'] = pd.to_datetime(df['Time period'])"
   ]
  },
  {
   "cell_type": "code",
   "execution_count": 9,
   "id": "relative-charlotte",
   "metadata": {},
   "outputs": [
    {
     "data": {
      "text/html": [
       "<div>\n",
       "<style scoped>\n",
       "    .dataframe tbody tr th:only-of-type {\n",
       "        vertical-align: middle;\n",
       "    }\n",
       "\n",
       "    .dataframe tbody tr th {\n",
       "        vertical-align: top;\n",
       "    }\n",
       "\n",
       "    .dataframe thead th {\n",
       "        text-align: right;\n",
       "    }\n",
       "</style>\n",
       "<table border=\"1\" class=\"dataframe\">\n",
       "  <thead>\n",
       "    <tr style=\"text-align: right;\">\n",
       "      <th></th>\n",
       "      <th>Time period</th>\n",
       "      <th>Count</th>\n",
       "    </tr>\n",
       "  </thead>\n",
       "  <tbody>\n",
       "    <tr>\n",
       "      <th>0</th>\n",
       "      <td>2021-01-25 00:00:00</td>\n",
       "      <td>24</td>\n",
       "    </tr>\n",
       "    <tr>\n",
       "      <th>1</th>\n",
       "      <td>2021-01-25 01:00:00</td>\n",
       "      <td>29</td>\n",
       "    </tr>\n",
       "    <tr>\n",
       "      <th>2</th>\n",
       "      <td>2021-01-25 02:00:00</td>\n",
       "      <td>26</td>\n",
       "    </tr>\n",
       "    <tr>\n",
       "      <th>3</th>\n",
       "      <td>2021-01-25 03:00:00</td>\n",
       "      <td>21</td>\n",
       "    </tr>\n",
       "    <tr>\n",
       "      <th>4</th>\n",
       "      <td>2021-01-25 04:00:00</td>\n",
       "      <td>16</td>\n",
       "    </tr>\n",
       "  </tbody>\n",
       "</table>\n",
       "</div>"
      ],
      "text/plain": [
       "          Time period  Count\n",
       "0 2021-01-25 00:00:00     24\n",
       "1 2021-01-25 01:00:00     29\n",
       "2 2021-01-25 02:00:00     26\n",
       "3 2021-01-25 03:00:00     21\n",
       "4 2021-01-25 04:00:00     16"
      ]
     },
     "execution_count": 9,
     "metadata": {},
     "output_type": "execute_result"
    }
   ],
   "source": [
    "df.head()"
   ]
  },
  {
   "cell_type": "code",
   "execution_count": 10,
   "id": "lesbian-pointer",
   "metadata": {},
   "outputs": [
    {
     "data": {
      "text/html": [
       "<div>\n",
       "<style scoped>\n",
       "    .dataframe tbody tr th:only-of-type {\n",
       "        vertical-align: middle;\n",
       "    }\n",
       "\n",
       "    .dataframe tbody tr th {\n",
       "        vertical-align: top;\n",
       "    }\n",
       "\n",
       "    .dataframe thead th {\n",
       "        text-align: right;\n",
       "    }\n",
       "</style>\n",
       "<table border=\"1\" class=\"dataframe\">\n",
       "  <thead>\n",
       "    <tr style=\"text-align: right;\">\n",
       "      <th></th>\n",
       "      <th>Time period</th>\n",
       "      <th>Count</th>\n",
       "    </tr>\n",
       "  </thead>\n",
       "  <tbody>\n",
       "    <tr>\n",
       "      <th>9672</th>\n",
       "      <td>2020-01-01 00:00:00</td>\n",
       "      <td>5</td>\n",
       "    </tr>\n",
       "    <tr>\n",
       "      <th>9673</th>\n",
       "      <td>2020-01-01 01:00:00</td>\n",
       "      <td>7</td>\n",
       "    </tr>\n",
       "    <tr>\n",
       "      <th>9674</th>\n",
       "      <td>2020-01-01 02:00:00</td>\n",
       "      <td>5</td>\n",
       "    </tr>\n",
       "    <tr>\n",
       "      <th>9675</th>\n",
       "      <td>2020-01-01 03:00:00</td>\n",
       "      <td>3</td>\n",
       "    </tr>\n",
       "    <tr>\n",
       "      <th>9676</th>\n",
       "      <td>2020-01-01 04:00:00</td>\n",
       "      <td>0</td>\n",
       "    </tr>\n",
       "    <tr>\n",
       "      <th>...</th>\n",
       "      <td>...</td>\n",
       "      <td>...</td>\n",
       "    </tr>\n",
       "    <tr>\n",
       "      <th>739</th>\n",
       "      <td>2021-02-24 19:00:00</td>\n",
       "      <td>38</td>\n",
       "    </tr>\n",
       "    <tr>\n",
       "      <th>740</th>\n",
       "      <td>2021-02-24 20:00:00</td>\n",
       "      <td>51</td>\n",
       "    </tr>\n",
       "    <tr>\n",
       "      <th>741</th>\n",
       "      <td>2021-02-24 21:00:00</td>\n",
       "      <td>51</td>\n",
       "    </tr>\n",
       "    <tr>\n",
       "      <th>742</th>\n",
       "      <td>2021-02-24 22:00:00</td>\n",
       "      <td>47</td>\n",
       "    </tr>\n",
       "    <tr>\n",
       "      <th>743</th>\n",
       "      <td>2021-02-24 23:00:00</td>\n",
       "      <td>39</td>\n",
       "    </tr>\n",
       "  </tbody>\n",
       "</table>\n",
       "<p>10104 rows × 2 columns</p>\n",
       "</div>"
      ],
      "text/plain": [
       "             Time period  Count\n",
       "9672 2020-01-01 00:00:00      5\n",
       "9673 2020-01-01 01:00:00      7\n",
       "9674 2020-01-01 02:00:00      5\n",
       "9675 2020-01-01 03:00:00      3\n",
       "9676 2020-01-01 04:00:00      0\n",
       "...                  ...    ...\n",
       "739  2021-02-24 19:00:00     38\n",
       "740  2021-02-24 20:00:00     51\n",
       "741  2021-02-24 21:00:00     51\n",
       "742  2021-02-24 22:00:00     47\n",
       "743  2021-02-24 23:00:00     39\n",
       "\n",
       "[10104 rows x 2 columns]"
      ]
     },
     "execution_count": 10,
     "metadata": {},
     "output_type": "execute_result"
    }
   ],
   "source": [
    "df.sort_values(by='Time period')"
   ]
  },
  {
   "cell_type": "code",
   "execution_count": 11,
   "id": "tribal-receptor",
   "metadata": {},
   "outputs": [],
   "source": [
    "df.to_csv(f'Results/{stock}_counts.csv')"
   ]
  },
  {
   "cell_type": "code",
   "execution_count": 12,
   "id": "ethical-failure",
   "metadata": {},
   "outputs": [
    {
     "data": {
      "image/png": "[encoded data removed]",
      "text/plain": [
       "<Figure size 1440x720 with 1 Axes>"
      ]
     },
     "metadata": {
      "needs_background": "light"
     },
     "output_type": "display_data"
    }
   ],
   "source": [
    "df = df.sort_values(by='Time period')\n",
    "\n",
    "params = {\n",
    "    'axes.labelsize' : 16,\n",
    "    'xtick.labelsize' : 12,\n",
    "    'ytick.labelsize' : 12,\n",
    "    'figure.figsize' : (20,10)\n",
    "}\n",
    "pylab.rcParams.update(params)\n",
    "\n",
    "fig, ax = plt.subplots()\n",
    "ax.plot(df['Time period'], df['Count'], lw=1, ls='-', c='#1DA1F2', marker='o', ms=0)\n",
    "fig.autofmt_xdate()\n",
    "\n",
    "# For smaller datasets - display labels on x axis by day\n",
    "# ax.xaxis.set_major_formatter(mdates.DateFormatter('%d/%m/%y')) \n",
    "# ax.xaxis.set_major_locator(mdates.DayLocator(interval=5))\n",
    "\n",
    "# For larger datasets - display labels on x axis by month\n",
    "ax.xaxis.set_major_formatter(mdates.DateFormatter('%m/%y')) \n",
    "ax.xaxis.set_major_locator(mdates.MonthLocator(interval=1))\n",
    "\n",
    "ax.set_xlabel(\"Time period\")\n",
    "ax.set_ylabel(\"Count\")\n",
    "\n",
    "plt.savefig(f'Charts/{stock}', dpi=300)"
   ]
  },
  {
   "cell_type": "code",
   "execution_count": null,
   "id": "ahead-crash",
   "metadata": {},
   "outputs": [],
   "source": []
  }
 ],
 "metadata": {
  "kernelspec": {
   "display_name": "Python 3",
   "language": "python",
   "name": "python3"
  },
  "language_info": {
   "codemirror_mode": {
    "name": "ipython",
    "version": 3
   },
   "file_extension": ".py",
   "mimetype": "text/x-python",
   "name": "python",
   "nbconvert_exporter": "python",
   "pygments_lexer": "ipython3",
   "version": "3.9.1"
  }
 },
 "nbformat": 4,
 "nbformat_minor": 5
}
